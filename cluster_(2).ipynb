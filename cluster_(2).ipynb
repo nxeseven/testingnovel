{
 "cells": [
  {
   "cell_type": "code",
   "execution_count": 5,
   "metadata": {},
   "outputs": [],
   "source": [
    "file = open('testfile.scad','w') \n",
    " \n",
    "file.write('cube([18,18,18]);\\n')\n",
    "file.write('cube([18,28,8],true);\\n')\n",
    "\n",
    "\n",
    " \n",
    "file.close() "
   ]
  },
  {
   "cell_type": "code",
   "execution_count": 1,
   "metadata": {},
   "outputs": [
    {
     "data": {
      "application/vnd.jupyter.widget-view+json": {
       "model_id": "f87713c3026b47369a4a8b6a59e3a8b2",
       "version_major": 2,
       "version_minor": 0
      },
      "text/html": [
       "<p>Failed to display Jupyter Widget of type <code>interactive</code>.</p>\n",
       "<p>\n",
       "  If you're reading this message in Jupyter Notebook or JupyterLab, it may mean\n",
       "  that the widgets JavaScript is still loading. If this message persists, it\n",
       "  likely means that the widgets JavaScript library is either not installed or\n",
       "  not enabled. See the <a href=\"https://ipywidgets.readthedocs.io/en/stable/user_install.html\">Jupyter\n",
       "  Widgets Documentation</a> for setup instructions.\n",
       "</p>\n",
       "<p>\n",
       "  If you're reading this message in another notebook frontend (for example, a static\n",
       "  rendering on GitHub or <a href=\"https://nbviewer.jupyter.org/\">NBViewer</a>),\n",
       "  it may mean that your frontend doesn't currently support widgets.\n",
       "</p>\n"
      ],
      "text/plain": [
       "interactive(children=(IntSlider(value=10, description='x', max=30, min=-10), Output()), _dom_classes=('widget-interact',))"
      ]
     },
     "metadata": {},
     "output_type": "display_data"
    }
   ],
   "source": [
    "from __future__ import print_function\n",
    "from ipywidgets import interact, interactive, fixed, interact_manual\n",
    "import ipywidgets as widgets\n",
    "\n",
    "def f(x):\n",
    "    return (\"hello: \", x)\n",
    "\n",
    "interact(f, x=10);"
   ]
  },
  {
   "cell_type": "code",
   "execution_count": 3,
   "metadata": {},
   "outputs": [],
   "source": [
    "def f(x):\n",
    "    return x"
   ]
  },
  {
   "cell_type": "code",
   "execution_count": 4,
   "metadata": {},
   "outputs": [
    {
     "data": {
      "text/plain": [
       "10"
      ]
     },
     "metadata": {},
     "output_type": "display_data"
    }
   ],
   "source": [
    "interact(f, x=10);"
   ]
  },
  {
   "cell_type": "code",
   "execution_count": 6,
   "metadata": {},
   "outputs": [
    {
     "name": "stdout",
     "output_type": "stream",
     "text": [
      "Compiling design (CSG Products normalization)...\r\n",
      "Normalized CSG tree has 2 elements\r\n"
     ]
    }
   ],
   "source": [
    "!sudo /usr/bin/openscad -o cube2.png testfile.scad  --camera=0,0,0,60,0,35,500 --projection=p --imgsize=800,800"
   ]
  },
  {
   "cell_type": "code",
   "execution_count": 3,
   "metadata": {},
   "outputs": [],
   "source": [
    "!sudo rm cube.png"
   ]
  },
  {
   "cell_type": "code",
   "execution_count": 1,
   "metadata": {},
   "outputs": [
    {
     "name": "stdout",
     "output_type": "stream",
     "text": [
      "Clash At Demonhead NES 1_9!!!-RvYPsa1Pbrs.mp4  outputz3.wav\r\n",
      "cluster.ipynb\t\t\t\t       outputz4.wav\r\n",
      "cube2.png\t\t\t\t       outputz5.wav\r\n",
      "cube.png\t\t\t\t       outputzfinished.wav\r\n",
      "Desktop\t\t\t\t\t       Pictures\r\n",
      "Documents\t\t\t\t       Public\r\n",
      "Downloads\t\t\t\t       python_games\r\n",
      "draw01.jpg\t\t\t\t       sox_test_center.ipynb\r\n",
      "draw02.jpg\t\t\t\t       spectrum.png\r\n",
      "draw03.jpg\t\t\t\t       speechsynth.wav\r\n",
      "draw04.jpg\t\t\t\t       Templates\r\n",
      "hollowsphere.png\t\t\t       testfile.scad\r\n",
      "intro.mp4\t\t\t\t       timelapse.mp4\r\n",
      "Main.ipynb\t\t\t\t       trial.html\r\n",
      "Music\t\t\t\t\t       Videos\r\n",
      "outputz2.wav\r\n"
     ]
    }
   ],
   "source": [
    "!ls"
   ]
  },
  {
   "cell_type": "markdown",
   "metadata": {},
   "source": [
    "![title](cube.png)"
   ]
  },
  {
   "cell_type": "code",
   "execution_count": 4,
   "metadata": {},
   "outputs": [
    {
     "data": {
      "application/vnd.jupyter.widget-view+json": {
       "model_id": "cee4e66b739545baae134d6d0fc40527",
       "version_major": 2,
       "version_minor": 0
      },
      "text/html": [
       "<p>Failed to display Jupyter Widget of type <code>interactive</code>.</p>\n",
       "<p>\n",
       "  If you're reading this message in Jupyter Notebook or JupyterLab, it may mean\n",
       "  that the widgets JavaScript is still loading. If this message persists, it\n",
       "  likely means that the widgets JavaScript library is either not installed or\n",
       "  not enabled. See the <a href=\"https://ipywidgets.readthedocs.io/en/stable/user_install.html\">Jupyter\n",
       "  Widgets Documentation</a> for setup instructions.\n",
       "</p>\n",
       "<p>\n",
       "  If you're reading this message in another notebook frontend (for example, a static\n",
       "  rendering on GitHub or <a href=\"https://nbviewer.jupyter.org/\">NBViewer</a>),\n",
       "  it may mean that your frontend doesn't currently support widgets.\n",
       "</p>\n"
      ],
      "text/plain": [
       "interactive(children=(IntSlider(value=0, description='x', max=255), Output()), _dom_classes=('widget-interact',))"
      ]
     },
     "metadata": {},
     "output_type": "display_data"
    },
    {
     "data": {
      "application/vnd.jupyter.widget-view+json": {
       "model_id": "ca357193e8df4018a98a6a792f44fed7",
       "version_major": 2,
       "version_minor": 0
      },
      "text/html": [
       "<p>Failed to display Jupyter Widget of type <code>interactive</code>.</p>\n",
       "<p>\n",
       "  If you're reading this message in Jupyter Notebook or JupyterLab, it may mean\n",
       "  that the widgets JavaScript is still loading. If this message persists, it\n",
       "  likely means that the widgets JavaScript library is either not installed or\n",
       "  not enabled. See the <a href=\"https://ipywidgets.readthedocs.io/en/stable/user_install.html\">Jupyter\n",
       "  Widgets Documentation</a> for setup instructions.\n",
       "</p>\n",
       "<p>\n",
       "  If you're reading this message in another notebook frontend (for example, a static\n",
       "  rendering on GitHub or <a href=\"https://nbviewer.jupyter.org/\">NBViewer</a>),\n",
       "  it may mean that your frontend doesn't currently support widgets.\n",
       "</p>\n"
      ],
      "text/plain": [
       "interactive(children=(IntSlider(value=0, description='x', max=255), Output()), _dom_classes=('widget-interact',))"
      ]
     },
     "metadata": {},
     "output_type": "display_data"
    },
    {
     "data": {
      "application/vnd.jupyter.widget-view+json": {
       "model_id": "6d2fc52a82c042ae8e260cf277ec0941",
       "version_major": 2,
       "version_minor": 0
      },
      "text/html": [
       "<p>Failed to display Jupyter Widget of type <code>interactive</code>.</p>\n",
       "<p>\n",
       "  If you're reading this message in Jupyter Notebook or JupyterLab, it may mean\n",
       "  that the widgets JavaScript is still loading. If this message persists, it\n",
       "  likely means that the widgets JavaScript library is either not installed or\n",
       "  not enabled. See the <a href=\"https://ipywidgets.readthedocs.io/en/stable/user_install.html\">Jupyter\n",
       "  Widgets Documentation</a> for setup instructions.\n",
       "</p>\n",
       "<p>\n",
       "  If you're reading this message in another notebook frontend (for example, a static\n",
       "  rendering on GitHub or <a href=\"https://nbviewer.jupyter.org/\">NBViewer</a>),\n",
       "  it may mean that your frontend doesn't currently support widgets.\n",
       "</p>\n"
      ],
      "text/plain": [
       "interactive(children=(IntSlider(value=0, description='x'), Output()), _dom_classes=('widget-interact',))"
      ]
     },
     "metadata": {},
     "output_type": "display_data"
    }
   ],
   "source": [
    "from __future__ import print_function\n",
    "from ipywidgets import interact, interactive, fixed, interact_manual\n",
    "import ipywidgets as widgets\n",
    "\n",
    "#import ipywidgets as widgets\n",
    "from ipywidgets import Layout, Button, Box, ToggleButtons\n",
    "\n",
    "from IPython.display import Image\n",
    "from IPython.core.display import HTML\n",
    "from subprocess import *\n",
    "\n",
    "\n",
    "\n",
    "file = open('cubez.scad','w') \n",
    "\n",
    "#file.write('translate( v = [10, 10, 10] ) {\\n')\n",
    "\n",
    "#r1 = input(\"What is the red value? \")\n",
    "#g1 = input(\"What is the green value? \")\n",
    "#b1 = input(\"What is the blue value? \")\n",
    "#a1 = input(\"What is the transparent value? \")\n",
    "r1 = 255\n",
    "g1 = 0\n",
    "b1 = 0\n",
    "a1 = 255\n",
    "\n",
    "\n",
    "#wvalue = input(\"What is the width value? \")\n",
    "#hvalue = input(\"What is the height value? \")\n",
    "#dvalue = input(\"What is the depth value? \")\n",
    "wvalue = 20\n",
    "hvalue = 20\n",
    "dvalue = 20\n",
    "\n",
    "\n",
    "rvalue = (int(r1)/255)*1\n",
    "gvalue = (int(g1)/255)*1\n",
    "bvalue = (int(b1)/255)*1\n",
    "avalue = (int(a1)/255)*1\n",
    "\n",
    "xvalue = 0\n",
    "yvalue = 0\n",
    "zvalue = 0\n",
    "\n",
    "radvalue = 15\n",
    "\n",
    "\n",
    "file.write('translate( v = ['+str(xvalue)+', '+str(yvalue)+', '+str(zvalue)+'] ) {\\n')\n",
    "file.write('color( c = ['+str(rvalue)+', '+str(gvalue)+', '+str(bvalue)+', '+str(avalue)+'] ) {\\n') \n",
    "file.write('cube(['+str(wvalue)+','+str(hvalue)+','+str(dvalue)+'],center=true);\\n')\n",
    "file.write('}\\n')\n",
    "file.write('}\\n')\n",
    "\n",
    "file.write('sphere(r = '+str(radvalue)+');\\n')\n",
    "\n",
    "file.close() \n",
    "\n",
    "def proscene(y):\n",
    "    #--camera=translatex,y,z,rotx,y,z,dist\n",
    "    cam1 = Popen(['sudo /usr/bin/openscad -o hollowsphere.png cubez.scad  --camera=0,0,0,'+str(y)+',0,0,1000 --projection=p --imgsize=800,800'], shell=True, stdin=PIPE, stdout=PIPE)\n",
    "\n",
    "    #while cam1.poll() is None:\n",
    "    #    l = cam1.stdout.readline()\n",
    "        # print (l)\n",
    "\n",
    "\n",
    "\n",
    "def redpar(x):\n",
    "    return x\n",
    "\n",
    "def bluepar(x):\n",
    "    return x\n",
    "\n",
    "def greenpar(x):\n",
    "    if x < 100:\n",
    "        print(\"Adjustable: \"+ str(x))\n",
    "        proscene(x)\n",
    "        picdraw()\n",
    "    if x == 100:\n",
    "        print(\"Max: \"+ str(x))\n",
    "        proscene(x)\n",
    "        picdraw()\n",
    "        \n",
    "#PATH = \"\"\n",
    "#Image(filename = PATH + \"hollowsphere.png\", width=200, height=200)\n",
    "def summon():\n",
    "    print (\"hello\")\n",
    "\n",
    "interact(redpar, x=widgets.IntSlider(min=0,max=255,step=1,value=0));\n",
    "interact(bluepar, x=widgets.IntSlider(min=0,max=255,step=1,value=0));\n",
    "interact(greenpar, x=widgets.IntSlider(min=0,max=100,step=1,value=0));\n",
    "\n",
    "#summon()\n",
    "#Image(\"hollowsphere.png\", width=200, height=200)"
   ]
  },
  {
   "cell_type": "code",
   "execution_count": 2,
   "metadata": {},
   "outputs": [
    {
     "data": {
      "application/vnd.jupyter.widget-view+json": {
       "model_id": "00425812e42a4c8bbd9a298bb1ad23d5",
       "version_major": 2,
       "version_minor": 0
      },
      "text/html": [
       "<p>Failed to display Jupyter Widget of type <code>interactive</code>.</p>\n",
       "<p>\n",
       "  If you're reading this message in Jupyter Notebook or JupyterLab, it may mean\n",
       "  that the widgets JavaScript is still loading. If this message persists, it\n",
       "  likely means that the widgets JavaScript library is either not installed or\n",
       "  not enabled. See the <a href=\"https://ipywidgets.readthedocs.io/en/stable/user_install.html\">Jupyter\n",
       "  Widgets Documentation</a> for setup instructions.\n",
       "</p>\n",
       "<p>\n",
       "  If you're reading this message in another notebook frontend (for example, a static\n",
       "  rendering on GitHub or <a href=\"https://nbviewer.jupyter.org/\">NBViewer</a>),\n",
       "  it may mean that your frontend doesn't currently support widgets.\n",
       "</p>\n"
      ],
      "text/plain": [
       "interactive(children=(ToggleButtons(description='Speed:', options=('Slow', 'Regular', 'Fast'), tooltips=['Description of slow', 'Description of regular', 'Description of fast'], value='Slow'), Output()), _dom_classes=('widget-interact',))"
      ]
     },
     "metadata": {},
     "output_type": "display_data"
    }
   ],
   "source": [
    "#import ipywidgets as widgets\n",
    "from ipywidgets import Layout, Button, Box, ToggleButtons\n",
    "\n",
    "#y = \"Slow\"\n",
    "\n",
    "\n",
    "y = \"Slow\"\n",
    "\n",
    "def reflect(x):\n",
    "    global y\n",
    "    print(x)\n",
    "    y = x\n",
    "    print(\"y is: \" + y)\n",
    "    if y == \"Fast\":\n",
    "        picdraw()\n",
    "    if y == \"Regular\":\n",
    "        picdraw()\n",
    "        \n",
    "\n",
    "def picdraw():\n",
    "    print (\"hooray\")\n",
    "    file = open(\"hollowsphere.png\", \"rb\")\n",
    "    image = file.read()\n",
    "    picta = widgets.Image(\n",
    "    value=image,\n",
    "    format='png',\n",
    "    width=300,\n",
    "    height=400)\n",
    "    #display.display(display.Image(os.path.join(\"pi\", \"hollowsphere.png\")))\n",
    "    display(picta)\n",
    "\n",
    "#widgets.Togglebuttons()\n",
    "interact(reflect, x = ToggleButtons(\n",
    "    options=['Slow', 'Regular', 'Fast'],\n",
    "    description='Speed:',\n",
    "    disabled=False,\n",
    "    button_style='', # 'success', 'info', 'warning', 'danger' or ''\n",
    "    tooltips=['Description of slow', 'Description of regular', 'Description of fast'],\n",
    "#     icons=['check'] * 3\n",
    ")\n",
    ");\n",
    "\n"
   ]
  },
  {
   "cell_type": "code",
   "execution_count": 16,
   "metadata": {},
   "outputs": [
    {
     "data": {
      "application/vnd.jupyter.widget-view+json": {
       "model_id": "99df0a4e95684912bd1d236116a1396b",
       "version_major": 2,
       "version_minor": 0
      },
      "text/html": [
       "<p>Failed to display Jupyter Widget of type <code>interactive</code>.</p>\n",
       "<p>\n",
       "  If you're reading this message in Jupyter Notebook or JupyterLab, it may mean\n",
       "  that the widgets JavaScript is still loading. If this message persists, it\n",
       "  likely means that the widgets JavaScript library is either not installed or\n",
       "  not enabled. See the <a href=\"https://ipywidgets.readthedocs.io/en/stable/user_install.html\">Jupyter\n",
       "  Widgets Documentation</a> for setup instructions.\n",
       "</p>\n",
       "<p>\n",
       "  If you're reading this message in another notebook frontend (for example, a static\n",
       "  rendering on GitHub or <a href=\"https://nbviewer.jupyter.org/\">NBViewer</a>),\n",
       "  it may mean that your frontend doesn't currently support widgets.\n",
       "</p>\n"
      ],
      "text/plain": [
       "interactive(children=(IntSlider(value=0, description='x', max=255), Output()), _dom_classes=('widget-interact',))"
      ]
     },
     "metadata": {},
     "output_type": "display_data"
    },
    {
     "data": {
      "application/vnd.jupyter.widget-view+json": {
       "model_id": "55621234a2a34976abd7f6c74b210c97",
       "version_major": 2,
       "version_minor": 0
      },
      "text/html": [
       "<p>Failed to display Jupyter Widget of type <code>interactive</code>.</p>\n",
       "<p>\n",
       "  If you're reading this message in Jupyter Notebook or JupyterLab, it may mean\n",
       "  that the widgets JavaScript is still loading. If this message persists, it\n",
       "  likely means that the widgets JavaScript library is either not installed or\n",
       "  not enabled. See the <a href=\"https://ipywidgets.readthedocs.io/en/stable/user_install.html\">Jupyter\n",
       "  Widgets Documentation</a> for setup instructions.\n",
       "</p>\n",
       "<p>\n",
       "  If you're reading this message in another notebook frontend (for example, a static\n",
       "  rendering on GitHub or <a href=\"https://nbviewer.jupyter.org/\">NBViewer</a>),\n",
       "  it may mean that your frontend doesn't currently support widgets.\n",
       "</p>\n"
      ],
      "text/plain": [
       "interactive(children=(IntSlider(value=0, description='x', max=255), Output()), _dom_classes=('widget-interact',))"
      ]
     },
     "metadata": {},
     "output_type": "display_data"
    },
    {
     "data": {
      "application/vnd.jupyter.widget-view+json": {
       "model_id": "27b5b710dd98432f80c4b248cbb45f2f",
       "version_major": 2,
       "version_minor": 0
      },
      "text/html": [
       "<p>Failed to display Jupyter Widget of type <code>interactive</code>.</p>\n",
       "<p>\n",
       "  If you're reading this message in Jupyter Notebook or JupyterLab, it may mean\n",
       "  that the widgets JavaScript is still loading. If this message persists, it\n",
       "  likely means that the widgets JavaScript library is either not installed or\n",
       "  not enabled. See the <a href=\"https://ipywidgets.readthedocs.io/en/stable/user_install.html\">Jupyter\n",
       "  Widgets Documentation</a> for setup instructions.\n",
       "</p>\n",
       "<p>\n",
       "  If you're reading this message in another notebook frontend (for example, a static\n",
       "  rendering on GitHub or <a href=\"https://nbviewer.jupyter.org/\">NBViewer</a>),\n",
       "  it may mean that your frontend doesn't currently support widgets.\n",
       "</p>\n"
      ],
      "text/plain": [
       "interactive(children=(IntSlider(value=0, description='x'), Output()), _dom_classes=('widget-interact',))"
      ]
     },
     "metadata": {},
     "output_type": "display_data"
    },
    {
     "data": {
      "application/vnd.jupyter.widget-view+json": {
       "model_id": "74f31a75711d48d5ad1f181c7a452d4c",
       "version_major": 2,
       "version_minor": 0
      },
      "text/html": [
       "<p>Failed to display Jupyter Widget of type <code>interactive</code>.</p>\n",
       "<p>\n",
       "  If you're reading this message in Jupyter Notebook or JupyterLab, it may mean\n",
       "  that the widgets JavaScript is still loading. If this message persists, it\n",
       "  likely means that the widgets JavaScript library is either not installed or\n",
       "  not enabled. See the <a href=\"https://ipywidgets.readthedocs.io/en/stable/user_install.html\">Jupyter\n",
       "  Widgets Documentation</a> for setup instructions.\n",
       "</p>\n",
       "<p>\n",
       "  If you're reading this message in another notebook frontend (for example, a static\n",
       "  rendering on GitHub or <a href=\"https://nbviewer.jupyter.org/\">NBViewer</a>),\n",
       "  it may mean that your frontend doesn't currently support widgets.\n",
       "</p>\n"
      ],
      "text/plain": [
       "interactive(children=(ToggleButtons(description='Speed:', options=('Slow', 'Regular', 'Fast'), tooltips=['Description of slow', 'Description of regular', 'Description of fast'], value='Slow'), Output()), _dom_classes=('widget-interact',))"
      ]
     },
     "metadata": {},
     "output_type": "display_data"
    },
    {
     "data": {
      "application/vnd.jupyter.widget-view+json": {
       "model_id": "76347ea47943469d888abf4fc20c5d24",
       "version_major": 2,
       "version_minor": 0
      },
      "text/html": [
       "<p>Failed to display Jupyter Widget of type <code>VBox</code>.</p>\n",
       "<p>\n",
       "  If you're reading this message in Jupyter Notebook or JupyterLab, it may mean\n",
       "  that the widgets JavaScript is still loading. If this message persists, it\n",
       "  likely means that the widgets JavaScript library is either not installed or\n",
       "  not enabled. See the <a href=\"https://ipywidgets.readthedocs.io/en/stable/user_install.html\">Jupyter\n",
       "  Widgets Documentation</a> for setup instructions.\n",
       "</p>\n",
       "<p>\n",
       "  If you're reading this message in another notebook frontend (for example, a static\n",
       "  rendering on GitHub or <a href=\"https://nbviewer.jupyter.org/\">NBViewer</a>),\n",
       "  it may mean that your frontend doesn't currently support widgets.\n",
       "</p>\n"
      ],
      "text/plain": [
       "VBox(children=(HBox(children=(interactive(children=(IntSlider(value=10, description='a', max=30, min=-10), IntSlider(value=20, description='b', max=60, min=-20), Checkbox(value=False, description='c'), IntSlider(value=0, description='d', max=255), ToggleButtons(description='Speed:', options=('Slow', 'Regular', 'Fast'), tooltips=['Description of slow', 'Description of regular', 'Description of fast'], value='Slow'), Output()), _dom_classes=('widget-interact',)), interactive(children=(IntSlider(value=20, description='a', max=60, min=-20), IntSlider(value=30, description='b', max=90, min=-30), Checkbox(value=False, description='c'), IntSlider(value=0, description='d', max=255), ToggleButtons(description='Speed:', options=('Slow', 'Regular', 'Fast'), tooltips=['Description of slow', 'Description of regular', 'Description of fast'], value='Slow'), Output()), _dom_classes=('widget-interact',)), interactive(children=(IntSlider(value=10, description='a', max=30, min=-10), IntSlider(value=20, description='b', max=60, min=-20), Checkbox(value=False, description='c'), IntSlider(value=0, description='d', max=255), ToggleButtons(description='Speed:', options=('Slow', 'Regular', 'Fast'), tooltips=['Description of slow', 'Description of regular', 'Description of fast'], value='Slow'), Output()), _dom_classes=('widget-interact',)))), HBox(children=(interactive(children=(IntSlider(value=10, description='a', max=30, min=-10), IntSlider(value=20, description='b', max=60, min=-20), Checkbox(value=False, description='c'), IntSlider(value=0, description='d', max=255), ToggleButtons(description='Speed:', options=('Slow', 'Regular', 'Fast'), tooltips=['Description of slow', 'Description of regular', 'Description of fast'], value='Slow'), Output()), _dom_classes=('widget-interact',)), interactive(children=(IntSlider(value=20, description='a', max=60, min=-20), IntSlider(value=30, description='b', max=90, min=-30), Checkbox(value=False, description='c'), IntSlider(value=0, description='d', max=255), ToggleButtons(description='Speed:', options=('Slow', 'Regular', 'Fast'), tooltips=['Description of slow', 'Description of regular', 'Description of fast'], value='Slow'), Output()), _dom_classes=('widget-interact',)), interactive(children=(IntSlider(value=10, description='a', max=30, min=-10), IntSlider(value=20, description='b', max=60, min=-20), Checkbox(value=False, description='c'), IntSlider(value=0, description='d', max=255), ToggleButtons(description='Speed:', options=('Slow', 'Regular', 'Fast'), tooltips=['Description of slow', 'Description of regular', 'Description of fast'], value='Slow'), Output()), _dom_classes=('widget-interact',))))))"
      ]
     },
     "metadata": {},
     "output_type": "display_data"
    }
   ],
   "source": [
    "from ipywidgets import Layout, Button, Box, ToggleButtons\n",
    "from ipywidgets import interact, interactive, fixed, interact_manual\n",
    "from ipywidgets import HBox, VBox, Label, IntSlider\n",
    "import ipywidgets as widgets\n",
    "#import ipywidgets as widgets\n",
    "\n",
    "from IPython.display import display\n",
    "from IPython.display import Image\n",
    "from IPython.core.display import HTML\n",
    "#Html way for posting local images;however, widget images update automatically/without refreshing (so cooler)\n",
    "#PATH = \"python_games/\"\n",
    "#Image(filename = PATH + \"hollowsphere.png\", width=200, height=200)\n",
    "#Image(\"hollowsphere.png\", width=200, height=200)\n",
    "\n",
    "from subprocess import *\n",
    "from __future__ import print_function\n",
    "\n",
    "#Global y instantiation because instatiation doesn't occur in a function\n",
    "y = \"Slow\"\n",
    "\n",
    "#instatiating rgb color variables of the shape\n",
    "#python input questions were cancelled because \n",
    "#r1 = input(\"What is the red value? \")\n",
    "#g1 = input(\"What is the green value? \")\n",
    "#b1 = input(\"What is the blue value? \")\n",
    "#a1 = input(\"What is the transparent value? \")\n",
    "r1 = 255\n",
    "g1 = 0\n",
    "b1 = 0\n",
    "a1 = 255\n",
    "\n",
    "#instatiating rgb to openscad 0-1 scale conversion variables\n",
    "rvalue = (int(r1)/255)*1\n",
    "gvalue = (int(g1)/255)*1\n",
    "bvalue = (int(b1)/255)*1\n",
    "avalue = (int(a1)/255)*1\n",
    "\n",
    "#instantiating cube dimensions variables\n",
    "#wvalue = input(\"What is the width value? \")\n",
    "#hvalue = input(\"What is the height value? \")\n",
    "#dvalue = input(\"What is the depth value? \")\n",
    "wvalue = 20\n",
    "hvalue = 20\n",
    "dvalue = 20\n",
    "\n",
    "#instantiating shape transformation/relocation variables\n",
    "xvalue = 0\n",
    "yvalue = 0\n",
    "zvalue = 0\n",
    "\n",
    "#Instatiating sphere dimension variables\n",
    "radvalue = 15\n",
    "\n",
    "#defines funciton that makes global y equal to the widget value x while being interacted with\n",
    "def reflect(x):\n",
    "    global y\n",
    "    print(x)\n",
    "    y = x\n",
    "    print(\"y is: \" + y)\n",
    "    if y == \"Fast\":\n",
    "        picdraw()\n",
    "    if y == \"Regular\":\n",
    "        picdraw()\n",
    "\n",
    "#displays the updatable image, requires conditional to update, so far (reoccurring scripting didn't work, ex while loop)\n",
    "def picdraw():\n",
    "    print (\"hooray\")\n",
    "    file = open(\"hollowsphere.png\", \"rb\")\n",
    "    image = file.read()\n",
    "    picta = widgets.Image(\n",
    "    value=image,\n",
    "    format='png',\n",
    "    width=300,\n",
    "    height=400)\n",
    "    #display.display(display.Image(os.path.join(\"pi\", \"hollowsphere.png\")))\n",
    "    display(picta)\n",
    "\n",
    "#defines function that appends \n",
    "def proscene(y):\n",
    "    #w, writes/overwrites and a, appends\n",
    "    #file = open('cubez.scad','w') \n",
    "    file = open('cubez.scad','w') \n",
    "\n",
    "    #contents/openscad commands written to the file\n",
    "    #file.write('translate( v = [10, 10, 10] ) {\\n')\n",
    "    file.write('translate( v = ['+str(xvalue)+', '+str(yvalue)+', '+str(zvalue)+'] ) {\\n')\n",
    "    file.write('color( c = ['+str(rvalue)+', '+str(gvalue)+', '+str(bvalue)+', '+str(avalue)+'] ) {\\n') \n",
    "    file.write('cube(['+str(wvalue)+','+str(hvalue)+','+str(dvalue)+'],center=true);\\n')\n",
    "    file.write('}\\n')\n",
    "    file.write('}\\n')\n",
    "    file.write('sphere(r = '+str(radvalue)+');\\n')\n",
    "    file.close() \n",
    "    \n",
    "    #--camera=translatex,y,z,rotx,y,z,dist\n",
    "    #subprocess start command for commands you enter into terminal\n",
    "    #cam1 = Popen(['sudo /usr/bin/openscad -o hollowsphere.png cubez.scad  --camera=0,0,0,'+str(y)+',0,0,1000 --projection=p --imgsize=800,800'], shell=True, stdin=PIPE, stdout=PIPE)\n",
    "    cam1 = Popen(['sudo /usr/bin/openscad -o hollowsphere.png cubez.scad  --camera=0,0,0,0,0,0,1000 --projection=p --imgsize=800,800'], shell=True, stdin=PIPE, stdout=PIPE)\n",
    "\n",
    "    #subprocess check close command\n",
    "    #while cam1.poll() is None:\n",
    "    #    l = cam1.stdout.readline()\n",
    "        # print (l)\n",
    "    \n",
    "#defining functions that are slider controlled for shape rgb color values tested\n",
    "def redpar(x):\n",
    "    return x\n",
    "\n",
    "def bluepar(x):\n",
    "    return x\n",
    "\n",
    "def greenpar(x):\n",
    "    if x < 100:\n",
    "        print(\"Adjustable: \"+ str(x))\n",
    "        proscene(x)\n",
    "        picdraw()\n",
    "    if x == 100:\n",
    "        print(\"Max: \"+ str(x))\n",
    "        proscene(x)\n",
    "        picdraw()\n",
    "        \n",
    "def f(a, b, c, d, e):\n",
    "    print (d)\n",
    "    print(a + b)\n",
    "    print (c)\n",
    "    print (e)\n",
    "    #return a+b\n",
    "    #display(c)\n",
    "    #return c\n",
    "\n",
    "#instantiating interactives so that they can be stored in a container/visual dashboard\n",
    "w = interactive(f, a=10, b=20, c=False, d=IntSlider(min=0,max=255,step=1,value=0), e = ToggleButtons(\n",
    "    options=['Slow', 'Regular', 'Fast'],\n",
    "    description='Speed:',\n",
    "    disabled=False,\n",
    "    button_style='', # 'success', 'info', 'warning', 'danger' or ''\n",
    "    tooltips=['Description of slow', 'Description of regular', 'Description of fast'],\n",
    "#     icons=['check'] * 3\n",
    "))\n",
    "\n",
    "w2 = interactive(f, a=20, b=30, c=False, d=IntSlider(min=0,max=255,step=1,value=0), e = ToggleButtons(\n",
    "    options=['Slow', 'Regular', 'Fast'],\n",
    "    description='Speed:',\n",
    "    disabled=False,\n",
    "    button_style='', # 'success', 'info', 'warning', 'danger' or ''\n",
    "    tooltips=['Description of slow', 'Description of regular', 'Description of fast'],\n",
    "#     icons=['check'] * 3\n",
    "))\n",
    "\n",
    "#instatiating containers\n",
    "box = HBox([w, w2, w])\n",
    "stack = VBox([box, box])\n",
    "\n",
    "\n",
    "    \n",
    "#sliders that control shapes rgb color values\n",
    "interact(redpar, x=widgets.IntSlider(min=0,max=255,step=1,value=0));\n",
    "interact(bluepar, x=widgets.IntSlider(min=0,max=255,step=1,value=0));\n",
    "interact(greenpar, x=widgets.IntSlider(min=0,max=100,step=1,value=0));\n",
    "\n",
    "#Buttons\n",
    "#Togglebuttons was used instead because it was imported by name\n",
    "#as opposed to 'as widgets' or 'widgets.*\"\n",
    "#widgets.Togglebuttons()\n",
    "interact(reflect, x = ToggleButtons(\n",
    "    options=['Slow', 'Regular', 'Fast'],\n",
    "    description='Speed:',\n",
    "    disabled=False,\n",
    "    button_style='', # 'success', 'info', 'warning', 'danger' or ''\n",
    "    tooltips=['Description of slow', 'Description of regular', 'Description of fast'],\n",
    "#   icons=['check'] * 3\n",
    ")\n",
    ");\n",
    "\n",
    "#display containers\n",
    "box\n",
    "stack\n",
    "\n",
    "#display of an interactive\n",
    "#display(w)\n",
    "\n",
    "#widgets referred as the widgets.* without importing by type name\n",
    "#widgets.BoundedFloatText(\n",
    "#    value=7.5,\n",
    "#    min=0,\n",
    "#    max=10.0,\n",
    "#    step=0.1,\n",
    "#    description='Text:',\n",
    "#    disabled=False\n",
    "#)\n",
    "\n",
    "#widgets.Dropdown(\n",
    "#    options=['1', '2', '3'],\n",
    "#    value='2',\n",
    "#    description='Number:',\n",
    "#    disabled=False,\n",
    "#)"
   ]
  },
  {
   "cell_type": "code",
   "execution_count": null,
   "metadata": {},
   "outputs": [],
   "source": [
    "quad = 0\n",
    "print (quad)\n",
    "\n",
    "def quadmaker():\n",
    "    global quad\n",
    "    quad = 4\n",
    "    print (quad)\n",
    "\n",
    "print(quad)\n",
    "quadmaker()\n",
    "print(quad)"
   ]
  }
 ],
 "metadata": {
  "kernelspec": {
   "display_name": "Python 3",
   "language": "python",
   "name": "python3"
  },
  "language_info": {
   "codemirror_mode": {
    "name": "ipython",
    "version": 3
   },
   "file_extension": ".py",
   "mimetype": "text/x-python",
   "name": "python",
   "nbconvert_exporter": "python",
   "pygments_lexer": "ipython3",
   "version": "3.4.2"
  }
 },
 "nbformat": 4,
 "nbformat_minor": 2
}
